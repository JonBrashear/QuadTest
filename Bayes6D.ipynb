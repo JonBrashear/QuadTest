{
 "cells": [
  {
   "cell_type": "code",
   "execution_count": 1,
   "metadata": {},
   "outputs": [],
   "source": [
    "import numpy as np\n",
    "import matplotlib.pyplot as plt\n",
    "import scipy as sp\n",
    "import pandas as pd\n",
    "#import KDEpy\n",
    "from scipy.stats import norm\n",
    "#from scipy.stats import multivariate_normal as norm3D\n",
    "from mpl_toolkits.mplot3d import Axes3D\n",
    "from numpy.random import multivariate_normal as norm3\n",
    "import sys\n",
    "from scipy.stats import norm\n",
    "from Bayes import *"
   ]
  },
  {
   "cell_type": "code",
   "execution_count": 8,
   "metadata": {},
   "outputs": [],
   "source": [
    "dat5_0=pd.read_csv(\"/home/jon/Lens_Bois/SHEAR/g.105N100kP1/angles6M.dat0\",sep=' ', skipinitialspace=True, names=['xs','ys','the12','the34','the23','sock','d1','d2','d3'])\n",
    "dat4_0=pd.read_csv(\"/home/jon/Lens_Bois/SHEAR/g.1N100kP1/angles6M.dat0\",sep=' ', skipinitialspace=True, names=['xs','ys','the12','the34','the23','sock','d1','d2','d3'])\n",
    "dat3_0=pd.read_csv(\"/home/jon/Lens_Bois/SHEAR/g.1N100kP2/angles6M.dat0\",sep=' ', skipinitialspace=True, names=['xs','ys','the12','the34','the23','sock','d1','d2','d3'])\n",
    "dat2_0=pd.read_csv(\"/home/jon/Lens_Bois/ALPHPOT/Test5/anglesALPHAlots.dat20c\",sep=' ', skipinitialspace=True, names=['xs','ys','the12','the34','the23','sock','d1','d2','d3'])\n",
    "dat1_0=pd.read_csv(\"/home/jon/Lens_Bois/ALPHPOT/Test6/anglesALPHAlots.dat20c\",sep=' ', skipinitialspace=True, names=['xs','ys','the12','the34','the23','sock','d1','d2','d3'])\n",
    "#dat0_0=pd.read_csv(\"/home/jon/Lens_Bois/ALPHPOT/Test1/anglesALPHAlots.dat20c\",sep=' ', skipinitialspace=True, names=['xs','ys','the12','the34','the23','sock','d1','d2','d3'])\n",
    "\n",
    "samp=pd.read_csv(\"/home/jon/Lens_Bois/SHEAR/g.1N100kP1/angles6M.dat0\",sep=' ', skipinitialspace=True, names=['xs','ys','the12','the34','the23','sock','d1','d2','d3'])\n",
    "#dat1=pd.read_csv(\"/home/jon/Lens_Bois/SHEAR/g.1N100kP2/angles6M.dat0\",sep=' ', skipinitialspace=True, names=['xs','ys','the12','the34','the23','sock','d1','d2','d3'])\n",
    "dat5=dat5_0.values\n",
    "dat4=dat4_0.values\n",
    "dat3=dat3_0.values\n",
    "dat2=dat2_0.values\n",
    "#dat1=dat1_0.values\n",
    "#dat0=dat0_0.values\n",
    "samp=samp.values"
   ]
  },
  {
   "cell_type": "code",
   "execution_count": 8,
   "metadata": {},
   "outputs": [
    {
     "data": {
      "image/png": "[encoded data removed]",
      "text/plain": [
       "<Figure size 432x288 with 1 Axes>"
      ]
     },
     "metadata": {
      "needs_background": "light"
     },
     "output_type": "display_data"
    }
   ],
   "source": [
    "makehists1D(\"/home/jon/Lens_Bois/plots/\",\"1D Comparison\",dat5,dat0,samp,'Off5','Off0')"
   ]
  },
  {
   "cell_type": "code",
   "execution_count": 9,
   "metadata": {},
   "outputs": [
    {
     "name": "stdout",
     "output_type": "stream",
     "text": [
      "Bayes Factor:  -15433.265425560776\n",
      "Number of Bins:  4456\n",
      "Reduced Bayes Factor: -3.463479673599815\n"
     ]
    }
   ],
   "source": [
    "n=[50,50,50,10,10,1]\n",
    "\n",
    "B,N,B_r=LongBayes(dat5,dat4,samp[70000:71000,:],n,NUMCUTS=1,DIM=0)\n",
    "print(\"Bayes Factor: \",B)\n",
    "print(\"Number of Bins: \",N)\n",
    "print(\"Reduced Bayes Factor:\",B_r)"
   ]
  },
  {
   "cell_type": "code",
   "execution_count": 4,
   "metadata": {},
   "outputs": [
    {
     "name": "stdout",
     "output_type": "stream",
     "text": [
      "Hello There\n",
      "Hello_There\n"
     ]
    }
   ],
   "source": [
    "a='Hello There'\n",
    "print(a)\n",
    "a=a.replace(' ','_')\n",
    "print(a)"
   ]
  },
  {
   "cell_type": "code",
   "execution_count": 14,
   "metadata": {},
   "outputs": [
    {
     "name": "stdout",
     "output_type": "stream",
     "text": [
      "Bayes Factor:  -1950.7173665007779\n",
      "Number of Bins:  2316\n",
      "Reduced Bayes Factor: -0.8422786556566398\n"
     ]
    }
   ],
   "source": [
    "n=[10,10,10,50,50,50]\n",
    "\n",
    "B,N,B_r=LongBayes(dat3,dat4,samp[70000:71000,:],n,NUMCUTS=50,DIM=3)\n",
    "print(\"Bayes Factor: \",B)\n",
    "print(\"Number of Bins: \",N)\n",
    "print(\"Reduced Bayes Factor:\",B_r)"
   ]
  },
  {
   "cell_type": "raw",
   "metadata": {},
   "source": [
    "r2=dat1[0:2000,6]\n",
    "r3=dat1[0:2000,7]\n",
    "r4=dat1[0:2000,8]\n",
    "o2=dat2[0:2000,6]\n",
    "o3=dat2[0:2000,7]\n",
    "o4=dat2[0:2000,8]\n",
    "s2=dat1[0:2000,6]\n",
    "s3=dat1[0:2000,7]\n",
    "s4=dat1[0:2000,8]\n",
    "r=minmax(r3,o3,s3)\n",
    "#r=(0,1.1)\n",
    "plt.cla()\n",
    "plt.hist(r3,range=r,bins=10)\n",
    "plt.hist(o3,range=r,bins=10)"
   ]
  },
  {
   "cell_type": "code",
   "execution_count": 5,
   "metadata": {},
   "outputs": [
    {
     "ename": "NameError",
     "evalue": "name 'dat1' is not defined",
     "output_type": "error",
     "traceback": [
      "\u001b[0;31m---------------------------------------------------------------------------\u001b[0m",
      "\u001b[0;31mNameError\u001b[0m                                 Traceback (most recent call last)",
      "\u001b[0;32m<ipython-input-5-ac45ec499ce3>\u001b[0m in \u001b[0;36m<module>\u001b[0;34m\u001b[0m\n\u001b[1;32m      1\u001b[0m \u001b[0mr\u001b[0m\u001b[0;34m=\u001b[0m\u001b[0;34m[\u001b[0m\u001b[0;34m(\u001b[0m\u001b[0;36m0\u001b[0m\u001b[0;34m,\u001b[0m\u001b[0;36m185\u001b[0m\u001b[0;34m)\u001b[0m\u001b[0;34m,\u001b[0m\u001b[0;34m(\u001b[0m\u001b[0;36m0\u001b[0m\u001b[0;34m,\u001b[0m\u001b[0;36m185\u001b[0m\u001b[0;34m)\u001b[0m\u001b[0;34m,\u001b[0m\u001b[0;34m(\u001b[0m\u001b[0;36m0\u001b[0m\u001b[0;34m,\u001b[0m\u001b[0;36m92\u001b[0m\u001b[0;34m)\u001b[0m\u001b[0;34m,\u001b[0m\u001b[0;34m(\u001b[0m\u001b[0;36m0\u001b[0m\u001b[0;34m,\u001b[0m\u001b[0;36m1.1\u001b[0m\u001b[0;34m)\u001b[0m\u001b[0;34m,\u001b[0m\u001b[0;34m(\u001b[0m\u001b[0;36m0\u001b[0m\u001b[0;34m,\u001b[0m\u001b[0;36m1.1\u001b[0m\u001b[0;34m)\u001b[0m\u001b[0;34m,\u001b[0m\u001b[0;34m(\u001b[0m\u001b[0;36m0\u001b[0m\u001b[0;34m,\u001b[0m\u001b[0;36m1.1\u001b[0m\u001b[0;34m)\u001b[0m\u001b[0;34m]\u001b[0m\u001b[0;34m\u001b[0m\u001b[0;34m\u001b[0m\u001b[0m\n\u001b[1;32m      2\u001b[0m \u001b[0mn\u001b[0m\u001b[0;34m=\u001b[0m\u001b[0;34m[\u001b[0m\u001b[0;36m50\u001b[0m\u001b[0;34m,\u001b[0m\u001b[0;36m50\u001b[0m\u001b[0;34m,\u001b[0m\u001b[0;36m50\u001b[0m\u001b[0;34m,\u001b[0m\u001b[0;36m10\u001b[0m\u001b[0;34m,\u001b[0m\u001b[0;36m10\u001b[0m\u001b[0;34m,\u001b[0m\u001b[0;36m100\u001b[0m\u001b[0;34m]\u001b[0m\u001b[0;34m\u001b[0m\u001b[0;34m\u001b[0m\u001b[0m\n\u001b[0;32m----> 3\u001b[0;31m \u001b[0mB\u001b[0m\u001b[0;34m=\u001b[0m\u001b[0mLongBayes\u001b[0m\u001b[0;34m(\u001b[0m\u001b[0mdat2\u001b[0m\u001b[0;34m,\u001b[0m\u001b[0mdat1\u001b[0m\u001b[0;34m,\u001b[0m\u001b[0msamp\u001b[0m\u001b[0;34m[\u001b[0m\u001b[0;36m84000\u001b[0m\u001b[0;34m:\u001b[0m\u001b[0;36m84400\u001b[0m\u001b[0;34m,\u001b[0m\u001b[0;34m:\u001b[0m\u001b[0;34m]\u001b[0m\u001b[0;34m,\u001b[0m\u001b[0mn\u001b[0m\u001b[0;34m,\u001b[0m\u001b[0mr\u001b[0m\u001b[0;34m,\u001b[0m\u001b[0;36m100\u001b[0m\u001b[0;34m,\u001b[0m\u001b[0;36m5\u001b[0m\u001b[0;34m)\u001b[0m\u001b[0;34m\u001b[0m\u001b[0;34m\u001b[0m\u001b[0m\n\u001b[0m\u001b[1;32m      4\u001b[0m \u001b[0mprint\u001b[0m\u001b[0;34m(\u001b[0m\u001b[0;34m\"Bayes Factor: \"\u001b[0m\u001b[0;34m,\u001b[0m\u001b[0mB\u001b[0m\u001b[0;34m)\u001b[0m\u001b[0;34m\u001b[0m\u001b[0;34m\u001b[0m\u001b[0m\n",
      "\u001b[0;31mNameError\u001b[0m: name 'dat1' is not defined"
     ]
    }
   ],
   "source": [
    "r=[(0,185),(0,185),(0,92),(0,1.1),(0,1.1),(0,1.1)]\n",
    "n=[50,50,50,10,10,100]\n",
    "B=LongBayes(dat2,dat1,samp[84000:84400,:],n,r,100,5)\n",
    "print(\"Bayes Factor: \",B)"
   ]
  },
  {
   "cell_type": "code",
   "execution_count": 27,
   "metadata": {},
   "outputs": [
    {
     "data": {
      "text/plain": [
       "0.0"
      ]
     },
     "execution_count": 27,
     "metadata": {},
     "output_type": "execute_result"
    }
   ],
   "source": [
    "r=[(0,185),(0,92),(0.4,1.1),(0.4,1.1)]\n",
    "n=[50,50,50,10]\n",
    "a,b,E,HP1,HP2,HS=BayesSimple6(dat2,dat1,samp[84000:84400,:],n,r)\n",
    "E"
   ]
  },
  {
   "cell_type": "code",
   "execution_count": 29,
   "metadata": {},
   "outputs": [],
   "source": [
    "arr=[]\n",
    "P1=dat5\n",
    "P2=dat4\n",
    "S=samp\n",
    "size=500\n",
    "p1=P1\n",
    "p2=P2\n",
    "r=[(0,185),(0,92),(0.4,1.1),(0.4,1.1)]\n",
    "n=[50,50,50,10]\n",
    "#sample_loc=np.random.randint(low=0,high=(S.size/3)-size)\n",
    "#p1_loc=np.random.randint(low=0,high=(P1.size/3)-size)\n",
    "#p2_loc=np.random.randint(low=0,high=(P2.size/3)-size)\n",
    "for i in range(0,int(S[:,0].size),size):\n",
    "    s=S[i:i+size,:]\n",
    "\n",
    "    a,b,E,HP1,HP2,HS=BayesSimple6(p1,p2,s,n,r)\n",
    "    arr.append(E)\n",
    "#print(E)"
   ]
  },
  {
   "cell_type": "code",
   "execution_count": 30,
   "metadata": {},
   "outputs": [
    {
     "ename": "NameError",
     "evalue": "name 'func' is not defined",
     "output_type": "error",
     "traceback": [
      "\u001b[0;31m---------------------------------------------------------------------------\u001b[0m",
      "\u001b[0;31mNameError\u001b[0m                                 Traceback (most recent call last)",
      "\u001b[0;32m<ipython-input-30-ebb7156bf367>\u001b[0m in \u001b[0;36m<module>\u001b[0;34m\u001b[0m\n\u001b[1;32m      7\u001b[0m \u001b[0;31m#plt.savefig()\u001b[0m\u001b[0;34m\u001b[0m\u001b[0;34m\u001b[0m\u001b[0;34m\u001b[0m\u001b[0m\n\u001b[1;32m      8\u001b[0m \u001b[0mxarr\u001b[0m\u001b[0;34m=\u001b[0m\u001b[0;34m(\u001b[0m\u001b[0mbins\u001b[0m\u001b[0;34m[\u001b[0m\u001b[0;36m0\u001b[0m\u001b[0;34m:\u001b[0m\u001b[0mlen\u001b[0m\u001b[0;34m(\u001b[0m\u001b[0mbins\u001b[0m\u001b[0;34m)\u001b[0m\u001b[0;34m-\u001b[0m\u001b[0;36m1\u001b[0m\u001b[0;34m]\u001b[0m\u001b[0;34m+\u001b[0m\u001b[0mbins\u001b[0m\u001b[0;34m[\u001b[0m\u001b[0;36m1\u001b[0m\u001b[0;34m:\u001b[0m\u001b[0mlen\u001b[0m\u001b[0;34m(\u001b[0m\u001b[0mbins\u001b[0m\u001b[0;34m)\u001b[0m\u001b[0;34m]\u001b[0m\u001b[0;34m)\u001b[0m\u001b[0;34m/\u001b[0m\u001b[0;36m2\u001b[0m\u001b[0;34m\u001b[0m\u001b[0;34m\u001b[0m\u001b[0m\n\u001b[0;32m----> 9\u001b[0;31m \u001b[0mpopt\u001b[0m\u001b[0;34m,\u001b[0m\u001b[0mpcov\u001b[0m\u001b[0;34m=\u001b[0m\u001b[0msp\u001b[0m\u001b[0;34m.\u001b[0m\u001b[0moptimize\u001b[0m\u001b[0;34m.\u001b[0m\u001b[0mcurve_fit\u001b[0m\u001b[0;34m(\u001b[0m\u001b[0mfunc\u001b[0m\u001b[0;34m,\u001b[0m\u001b[0mxarr\u001b[0m\u001b[0;34m,\u001b[0m\u001b[0mN\u001b[0m\u001b[0;34m,\u001b[0m\u001b[0mp0\u001b[0m\u001b[0;34m=\u001b[0m\u001b[0;34m[\u001b[0m\u001b[0;34m-\u001b[0m\u001b[0;36m50000\u001b[0m\u001b[0;34m,\u001b[0m\u001b[0;36m20000\u001b[0m\u001b[0;34m]\u001b[0m\u001b[0;34m)\u001b[0m\u001b[0;34m\u001b[0m\u001b[0;34m\u001b[0m\u001b[0m\n\u001b[0m\u001b[1;32m     10\u001b[0m \u001b[0mmu\u001b[0m\u001b[0;34m=\u001b[0m\u001b[0mpopt\u001b[0m\u001b[0;34m[\u001b[0m\u001b[0;36m0\u001b[0m\u001b[0;34m]\u001b[0m\u001b[0;34m\u001b[0m\u001b[0;34m\u001b[0m\u001b[0m\n\u001b[1;32m     11\u001b[0m \u001b[0msig\u001b[0m\u001b[0;34m=\u001b[0m\u001b[0mpopt\u001b[0m\u001b[0;34m[\u001b[0m\u001b[0;36m1\u001b[0m\u001b[0;34m]\u001b[0m\u001b[0;34m\u001b[0m\u001b[0;34m\u001b[0m\u001b[0m\n",
      "\u001b[0;31mNameError\u001b[0m: name 'func' is not defined"
     ]
    },
    {
     "data": {
      "image/png": "[encoded data removed]",
      "text/plain": [
       "<Figure size 432x288 with 1 Axes>"
      ]
     },
     "metadata": {
      "needs_background": "light"
     },
     "output_type": "display_data"
    }
   ],
   "source": [
    "fig=plt.figure()\n",
    "N,bins,p=plt.hist(arr,bins=40,density=True)\n",
    "#plt.hold(True)\n",
    "plt.title(\"Bayes Factor 100 Bins, Gam=0.1 vs. Gam=0.1\")\n",
    "plt.xlabel(\"Log(Bayes Factor)\")\n",
    "plt.ylabel(\"Normalized Counts\")\n",
    "#plt.savefig()\n",
    "xarr=(bins[0:len(bins)-1]+bins[1:len(bins)])/2\n",
    "popt,pcov=sp.optimize.curve_fit(func,xarr,N,p0=[-50000,20000])\n",
    "mu=popt[0]\n",
    "sig=popt[1]\n",
    "r=norm()\n",
    "plt.plot(xarr,(1/sig)*r.pdf((xarr-mu)/sig))\n",
    "plt.legend([\"Guassian Fit\",\"Hist\"])\n",
    "textstr=r'$\\frac{\\mu}{\\sigma}$= '+str(round(mu/sig,2))\n",
    "plt.figtext(0.15, 0.75, textstr,fontsize=15,bbox=dict(facecolor='white', alpha=0.5))\n",
    "plt.savefig(\"/home/jon/Lens_Bois/plots/Bayesgam0.1gam0.1B100S=500.png\")\n",
    "\n",
    "print(mu)\n",
    "print((mu)/sig)"
   ]
  },
  {
   "cell_type": "code",
   "execution_count": 53,
   "metadata": {},
   "outputs": [
    {
     "data": {
      "text/plain": [
       "(array([ 17.,  45., 116., 222., 254., 266., 259., 288., 295., 238.]),\n",
       " array([0.6263 , 0.66426, 0.70222, 0.74018, 0.77814, 0.8161 , 0.85406,\n",
       "        0.89202, 0.92998, 0.96794, 1.0059 ]),\n",
       " <a list of 10 Patch objects>)"
      ]
     },
     "execution_count": 53,
     "metadata": {},
     "output_type": "execute_result"
    },
    {
     "data": {
      "image/png": "[encoded data removed]",
      "text/plain": [
       "<Figure size 432x288 with 1 Axes>"
      ]
     },
     "metadata": {
      "needs_background": "light"
     },
     "output_type": "display_data"
    }
   ],
   "source": [
    "fig, ax = plt.subplots()\n",
    "ax.hist(r2)"
   ]
  },
  {
   "cell_type": "code",
   "execution_count": 5,
   "metadata": {},
   "outputs": [
    {
     "data": {
      "image/png": "[encoded data removed]",
      "text/plain": [
       "<Figure size 432x288 with 1 Axes>"
      ]
     },
     "metadata": {
      "needs_background": "light"
     },
     "output_type": "display_data"
    }
   ],
   "source": [
    "plt.plot([1,2,3],[1,2,3])\n",
    "plt.show()"
   ]
  }
 ],
 "metadata": {
  "kernelspec": {
   "display_name": "Python 3",
   "language": "python",
   "name": "python3"
  },
  "language_info": {
   "codemirror_mode": {
    "name": "ipython",
    "version": 3
   },
   "file_extension": ".py",
   "mimetype": "text/x-python",
   "name": "python",
   "nbconvert_exporter": "python",
   "pygments_lexer": "ipython3",
   "version": "3.6.8"
  }
 },
 "nbformat": 4,
 "nbformat_minor": 2
}
