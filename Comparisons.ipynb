{
 "cells": [
  {
   "cell_type": "code",
   "execution_count": 1,
   "metadata": {},
   "outputs": [],
   "source": [
    "import numpy as np\n",
    "import matplotlib.pyplot as plt\n",
    "import scipy as sp\n",
    "import pandas as pd\n",
    "#import KDEpy\n",
    "from scipy.stats import norm\n",
    "#from scipy.stats import multivariate_normal as norm3D\n",
    "from mpl_toolkits.mplot3d import Axes3D\n",
    "from numpy.random import multivariate_normal as norm3\n",
    "import sys\n",
    "from scipy.stats import norm\n",
    "from Bayes import *"
   ]
  },
  {
   "cell_type": "code",
   "execution_count": 2,
   "metadata": {},
   "outputs": [],
   "source": [
    "stand=pd.read_csv(\"/home/jon/Lens_Bois/ALPHPOT/STANDARD/anglesALPHAlots.dat20c\",sep=' ', skipinitialspace=True, names=['xs','ys','the12','the34','the23','sock','d1','d2','d3'])\n",
    "ALPH1_115=pd.read_csv(\"/home/jon/Lens_Bois/ALPHPOT/ALPHA1.115/anglesALPHAlots.dat20c\",sep=' ', skipinitialspace=True, names=['xs','ys','the12','the34','the23','sock','d1','d2','d3'])\n",
    "ALPH1_13=pd.read_csv(\"/home/jon/Lens_Bois/ALPHPOT/ALPHA1.13/anglesALPHAlots.dat20c\",sep=' ', skipinitialspace=True, names=['xs','ys','the12','the34','the23','sock','d1','d2','d3'])\n",
    "ALPH1_12=pd.read_csv(\"/home/jon/Lens_Bois/ALPHPOT/ALPHA1.12/anglesALPHAlots.dat20c\",sep=' ', skipinitialspace=True, names=['xs','ys','the12','the34','the23','sock','d1','d2','d3'])\n",
    "#ALPH1_11=pd.read_csv(\"/home/jon/Lens_Bois/ALPHPOT/ALPHA1.11/anglesALPHAlots.dat20c\",sep=' ', skipinitialspace=True, names=['xs','ys','the12','the34','the23','sock','d1','d2','d3'])\n",
    "#dat0_0=pd.read_csv(\"/home/jon/Lens_Bois/ALPHPOT/Test1/anglesALPHAlots.dat20c\",sep=' ', skipinitialspace=True, names=['xs','ys','the12','the34','the23','sock','d1','d2','d3'])\n",
    "datreal_=pd.read_csv(\"/home/jon/Lens_Bois/real_quads_processed.dat\",sep=' ',skipinitialspace=True)\n",
    "samp=pd.read_csv(\"/home/jon/Lens_Bois/ALPHPOT/STANDARDSAMP/anglesALPHAlots.dat20c\",sep=' ', skipinitialspace=True, names=['xs','ys','the12','the34','the23','sock','d1','d2','d3'])\n",
    "#dat1=pd.read_csv(\"/home/jon/Lens_Bois/SHEAR/g.1N100kP2/angles6M.dat0\",sep=' ', skipinitialspace=True, names=['xs','ys','the12','the34','the23','sock','d1','d2','d3'])\n",
    "ALPH1_115=ALPH1_115.values[0:100000,:]\n",
    "ALPH1_13=ALPH1_13.values[0:100000,:]\n",
    "ALPH1_12=ALPH1_12.values[0:100000,:]\n",
    "#ALPH1_11=ALPH1_11.values[0:100000,:]\n",
    "samp=samp.values[0:100000,:]\n",
    "datreal=datreal_.values\n",
    "stand=stand.values[0:100000,:]"
   ]
  },
  {
   "cell_type": "code",
   "execution_count": 9,
   "metadata": {},
   "outputs": [
    {
     "data": {
      "text/plain": [
       "100001.0"
      ]
     },
     "execution_count": 9,
     "metadata": {},
     "output_type": "execute_result"
    }
   ],
   "source": [
    "stand.size/9"
   ]
  },
  {
   "cell_type": "code",
   "execution_count": 4,
   "metadata": {},
   "outputs": [
    {
     "data": {
      "image/png": "[encoded data removed]",
      "text/plain": [
       "<Figure size 432x288 with 1 Axes>"
      ]
     },
     "metadata": {
      "needs_background": "light"
     },
     "output_type": "display_data"
    }
   ],
   "source": [
    "makehists1D(\"/home/jon/Lens_Bois/plots/\",\"1D Comparison\",stand,ALPH1_13,samp,'STAND','ALPH1_12')"
   ]
  },
  {
   "cell_type": "code",
   "execution_count": 4,
   "metadata": {},
   "outputs": [
    {
     "name": "stdout",
     "output_type": "stream",
     "text": [
      "Bayes Factor:  -33677.76954358666\n",
      "Number of Bins:  3623\n",
      "Reduced Bayes Factor: -9.29554776251357\n"
     ]
    }
   ],
   "source": [
    "n=[10,10,10,50,50,50]\n",
    "\n",
    "B,N,B_r=LongBayes(ALPH1_12,stand,samp[8000:8400,:],n,NUMCUTS=50,DIM=3)\n",
    "print(\"Bayes Factor: \",B)\n",
    "print(\"Number of Bins: \",N)\n",
    "print(\"Reduced Bayes Factor:\",B_r)"
   ]
  },
  {
   "cell_type": "code",
   "execution_count": 3,
   "metadata": {},
   "outputs": [
    {
     "name": "stdout",
     "output_type": "stream",
     "text": [
      "RUNNING BAYES TESTS FOR ALL SAMPLES\n"
     ]
    }
   ],
   "source": [
    "print(\"RUNNING BAYES TESTS FOR ALL SAMPLES\")\n",
    "PATH=\"/home/jon/Lens_Bois/plots/1D_Comparison_STAND_ALPH1_13/\"\n",
    "n=[10,10,10,50,50,50]\n",
    "arr=[]\n",
    "arr_r=[]\n",
    "arr_n=[]\n",
    "p1=stand\n",
    "p2=ALPH1_115\n",
    "S=samp\n",
    "size=50\n",
    "A=np.zeros((int(S[:,0].size/size),3))\n",
    "for i in range(0,250*size,size):\n",
    "    s=S[i:i+size,:]\n",
    "    n=[10,10,10,50,50,50]\n",
    "    B,N,B_r=LongBayes(p1,p2,s,n,NUMCUTS=50,DIM=3)\n",
    "    arr.append(B)\n",
    "    arr_r.append(B_r)\n",
    "    arr_n.append(N)\n",
    "    A[int(i/size),1]=B\n",
    "    A[int(i/size),0]=N\n",
    "    A[int(i/size),2]=B_r\n",
    "BayesData=pd.DataFrame(A,columns=['NUM_BINS','BAYES','REDUCED BAYES'])\n",
    "BayesData.to_csv(PATH+\"HistData50.dat\")\n"
   ]
  },
  {
   "cell_type": "code",
   "execution_count": 37,
   "metadata": {},
   "outputs": [
    {
     "name": "stdout",
     "output_type": "stream",
     "text": [
      "[0.0, 39.83594781085251, 0.0, 69.2303336014054, 134.14200119626008, 0.0, 0.0, 0.0, 0.0, 0.0, 39.83594781085251, 96.49564081810814, 0.0, 0.0, 0.0, 0.0, 0.0, 0.0, 65.62100059813002, 65.62100059813002, 65.62100059813002, 0.0, 0.0, 0.0, 0.0, 65.62100059813002, 0.0, 65.62100059813002, 0.0, 0.0, 0.0, 0.0, 0.0, 0.0, 0.0, 69.2303336014054, 0.0, 0.0, 65.62100059813002, 65.62100059813002, -17.128679513998634, -3.238284815613065, 0.0, 0.0, 0.0, 0.0, 0.0, 0.0, 0.0, 0.0, 0.0, 0.0, 0.0, 0.0, 0.0, 0.0, 0.0, 134.85133419953542, 39.83594781085251, 0.0, 0.0, -3.238284815613065, 65.62100059813002, 0.0, 0.0, 65.62100059813002, 0.0, 0.0, 0.0, 0.0, 0.0, 69.2303336014054, 62.138281790110874, 0.0, 0.0, -7.092051811294527, 65.62100059813002, 0.0, 0.0, 0.0, 36.901934919406855, 0.0, 36.901934919406855, 0.0, 0.0, 0.0, 0.0, 0.0, 0.0, 0.0, 0.0, 0.0, 27.26530721670274, -3.238284815613065, 0.0, 39.83594781085251, 65.62100059813002, 0.0, 0.0, 0.0, 0.0, 0.0, 0.0, 0.0, 0.0, 65.99204878579233, 0.0, -17.128679513998634, 0.0, 0.0, 0.0, 0.0, 0.0, 0.0, 0.0, 36.901934919406855, 0.0, 0.0, 0.0, 0.0, 140.0606672028108, 0.0, 0.0, 0.0, 0.0, 65.62100059813002, 0.0, 65.62100059813002, 0.0, 0.0, 0.0, 0.0, 65.62100059813002, 0.0, 69.2303336014054, 0.0, 65.62100059813002, 0.0, 0.0, 65.62100059813002, 0.0, 0.0, 0.0, 0.0, 0.0, 27.26530721670274, 0.0, 36.901934919406855, 39.83594781085251, 69.2303336014054, 65.62100059813002, 0.0, 0.0, 0.0, 0.0, 0.0, 0.0, 65.62100059813002, 0.0, 0.0, 0.0, 0.0, 0.0, 0.0, 0.0, -7.092051811294527, 0.0, 0.0, 0.0, 0.0, 0.0, -3.238284815613065, -7.092051811294527, 0.0, 0.0, 0.0, 69.2303336014054, 0.0, 0.0, 0.0, 0.0, 0.0, 0.0, 0.0, 0.0, 0.0, 36.901934919406855, 36.901934919406855, 0.0, -3.238284815613065, 0.0, 0.0, 0.0, 0.0, 69.2303336014054, 0.0, 0.0, 0.0, 0.0, 0.0, 0.0, -7.092051811294527, 36.901934919406855, 0.0, 62.38271578251696, 0.0, 0.0, 0.0, 0.0, 65.62100059813002, 0.0, 0.0, 36.901934919406855, 0.0, 0.0, 0.0, 0.0, 65.62100059813002, 65.62100059813002, 0.0, 0.0, 69.2303336014054, 0.0, 0.0, 0.0, 0.0, 0.0, 0.0, 0.0, 0.0, 62.138281790110874, 0.0, 0.0, 65.62100059813002, 134.85133419953542, 0.0, 0.0, 134.14200119626008, 0.0, 65.62100059813002, 0.0, 0.0, 0.0, 0.0, 0.0, 36.901934919406855, 0.0, 0.0, 0.0, 134.85133419953542]\n"
     ]
    }
   ],
   "source": []
  },
  {
   "cell_type": "code",
   "execution_count": 31,
   "metadata": {},
   "outputs": [
    {
     "data": {
      "text/html": [
       "<div>\n",
       "<style scoped>\n",
       "    .dataframe tbody tr th:only-of-type {\n",
       "        vertical-align: middle;\n",
       "    }\n",
       "\n",
       "    .dataframe tbody tr th {\n",
       "        vertical-align: top;\n",
       "    }\n",
       "\n",
       "    .dataframe thead th {\n",
       "        text-align: right;\n",
       "    }\n",
       "</style>\n",
       "<table border=\"1\" class=\"dataframe\">\n",
       "  <thead>\n",
       "    <tr style=\"text-align: right;\">\n",
       "      <th></th>\n",
       "      <th>NUM_BINS</th>\n",
       "      <th>BAYES</th>\n",
       "      <th>REDUCED BAYES</th>\n",
       "    </tr>\n",
       "  </thead>\n",
       "  <tbody>\n",
       "    <tr>\n",
       "      <th>0</th>\n",
       "      <td>526.0</td>\n",
       "      <td>9329.034507</td>\n",
       "      <td>17.735807</td>\n",
       "    </tr>\n",
       "    <tr>\n",
       "      <th>1</th>\n",
       "      <td>526.0</td>\n",
       "      <td>17664.056039</td>\n",
       "      <td>33.581856</td>\n",
       "    </tr>\n",
       "    <tr>\n",
       "      <th>2</th>\n",
       "      <td>526.0</td>\n",
       "      <td>11186.781383</td>\n",
       "      <td>21.267645</td>\n",
       "    </tr>\n",
       "    <tr>\n",
       "      <th>3</th>\n",
       "      <td>526.0</td>\n",
       "      <td>15219.998764</td>\n",
       "      <td>28.935359</td>\n",
       "    </tr>\n",
       "    <tr>\n",
       "      <th>4</th>\n",
       "      <td>526.0</td>\n",
       "      <td>10629.610200</td>\n",
       "      <td>20.208384</td>\n",
       "    </tr>\n",
       "  </tbody>\n",
       "</table>\n",
       "</div>"
      ],
      "text/plain": [
       "   NUM_BINS         BAYES  REDUCED BAYES\n",
       "0     526.0   9329.034507      17.735807\n",
       "1     526.0  17664.056039      33.581856\n",
       "2     526.0  11186.781383      21.267645\n",
       "3     526.0  15219.998764      28.935359\n",
       "4     526.0  10629.610200      20.208384"
      ]
     },
     "execution_count": 31,
     "metadata": {},
     "output_type": "execute_result"
    }
   ],
   "source": [
    "BayesData=pd.read_csv(\"/home/jon/Lens_Bois/plots/1D_Comparison_Off5_Off2/HistData.dat\",index_col=0)\n",
    "arr_r=BayesData.iloc[0:250,2]\n",
    "PATH=\"/home/jon/Lens_Bois/plots/1D_Comparison_Off5_Off2/\"\n",
    "BayesData.head()\n"
   ]
  },
  {
   "cell_type": "code",
   "execution_count": 5,
   "metadata": {},
   "outputs": [],
   "source": [
    "def func(x,mu,sig):\n",
    "    return (1/1)*norm.pdf(x,mu,sig)"
   ]
  },
  {
   "cell_type": "code",
   "execution_count": 23,
   "metadata": {},
   "outputs": [
    {
     "data": {
      "text/html": [
       "<div>\n",
       "<style scoped>\n",
       "    .dataframe tbody tr th:only-of-type {\n",
       "        vertical-align: middle;\n",
       "    }\n",
       "\n",
       "    .dataframe tbody tr th {\n",
       "        vertical-align: top;\n",
       "    }\n",
       "\n",
       "    .dataframe thead th {\n",
       "        text-align: right;\n",
       "    }\n",
       "</style>\n",
       "<table border=\"1\" class=\"dataframe\">\n",
       "  <thead>\n",
       "    <tr style=\"text-align: right;\">\n",
       "      <th></th>\n",
       "      <th>NUM_BINS</th>\n",
       "      <th>BAYES</th>\n",
       "      <th>REDUCED BAYES</th>\n",
       "    </tr>\n",
       "  </thead>\n",
       "  <tbody>\n",
       "    <tr>\n",
       "      <th>0</th>\n",
       "      <td>3623.0</td>\n",
       "      <td>24512.396056</td>\n",
       "      <td>6.765773</td>\n",
       "    </tr>\n",
       "    <tr>\n",
       "      <th>1</th>\n",
       "      <td>3623.0</td>\n",
       "      <td>33034.968381</td>\n",
       "      <td>9.118125</td>\n",
       "    </tr>\n",
       "    <tr>\n",
       "      <th>2</th>\n",
       "      <td>3623.0</td>\n",
       "      <td>28127.453302</td>\n",
       "      <td>7.763581</td>\n",
       "    </tr>\n",
       "    <tr>\n",
       "      <th>3</th>\n",
       "      <td>3623.0</td>\n",
       "      <td>31556.335501</td>\n",
       "      <td>8.710002</td>\n",
       "    </tr>\n",
       "    <tr>\n",
       "      <th>4</th>\n",
       "      <td>3623.0</td>\n",
       "      <td>34618.147283</td>\n",
       "      <td>9.555106</td>\n",
       "    </tr>\n",
       "  </tbody>\n",
       "</table>\n",
       "</div>"
      ],
      "text/plain": [
       "   NUM_BINS         BAYES  REDUCED BAYES\n",
       "0    3623.0  24512.396056       6.765773\n",
       "1    3623.0  33034.968381       9.118125\n",
       "2    3623.0  28127.453302       7.763581\n",
       "3    3623.0  31556.335501       8.710002\n",
       "4    3623.0  34618.147283       9.555106"
      ]
     },
     "execution_count": 23,
     "metadata": {},
     "output_type": "execute_result"
    }
   ],
   "source": [
    "BayesData.head()"
   ]
  },
  {
   "cell_type": "code",
   "execution_count": 6,
   "metadata": {},
   "outputs": [
    {
     "name": "stdout",
     "output_type": "stream",
     "text": [
      "250\n",
      "18.716310462048142\n",
      "5.903513118991191\n",
      "3.1703682341009918\n"
     ]
    },
    {
     "data": {
      "image/png": "[encoded data removed]",
      "text/plain": [
       "<Figure size 432x288 with 1 Axes>"
      ]
     },
     "metadata": {
      "needs_background": "light"
     },
     "output_type": "display_data"
    }
   ],
   "source": [
    "PATH=\"/home/jon/Lens_Bois/plots/1D_Comparison_STAND_ALPH1_13/\"\n",
    "#BayesData=pd.DataFrame(A,columns=['NUM_BINS','BAYES','REDUCED BAYES'])\n",
    "#BayesData.to_csv(PATH+\"HistData50.dat\")\n",
    "#BayesData=pd.read_csv(PATH+\"HistData100.dat\",index_col=0)\n",
    "#arr_r=BayesData.iloc[0:250,2]\n",
    "#print(BayesData.head())\n",
    "\n",
    "fig=plt.figure()\n",
    "N,bins,p=plt.hist(arr_r,bins=70,range=[-5,45],density=True)\n",
    "print(len(arr_r))\n",
    "#plt.hold(True)\n",
    "plt.title(r'Logarithmic Bayes Factor, $\\alpha$=1.1438, N=100')\n",
    "plt.xlabel(\"Log(Bayes Factor)\")\n",
    "plt.ylabel(\"Normalized Counts\")\n",
    "#plt.savefig()\n",
    "xarr=(bins[0:len(bins)-1]+bins[1:len(bins)])/2\n",
    "popt,pcov=sp.optimize.curve_fit(func,xarr,N,p0=[-50000,20000])\n",
    "mu=popt[0]\n",
    "sig=popt[1]\n",
    "r=norm()\n",
    "plt.plot(xarr,(1/sig)*r.pdf((xarr-mu)/sig),'tab:orange')\n",
    "textstr=r'$\\frac{\\mu}{\\sigma}$= '+str(round(mu/sig,1))\n",
    "plt.figtext(0.73, 0.78, textstr,fontsize=15,bbox=dict(facecolor='white', alpha=0.5))\n",
    "plt.legend([\"Guassian Fit\",\"Hist\"],loc=2)\n",
    "plt.savefig(PATH+\"BayesDist100.png\")\n",
    "\n",
    "print(mu)\n",
    "print(sig)\n",
    "print((mu)/sig)"
   ]
  }
 ],
 "metadata": {
  "kernelspec": {
   "display_name": "Python 3",
   "language": "python",
   "name": "python3"
  },
  "language_info": {
   "codemirror_mode": {
    "name": "ipython",
    "version": 3
   },
   "file_extension": ".py",
   "mimetype": "text/x-python",
   "name": "python",
   "nbconvert_exporter": "python",
   "pygments_lexer": "ipython3",
   "version": "3.6.9"
  }
 },
 "nbformat": 4,
 "nbformat_minor": 2
}
